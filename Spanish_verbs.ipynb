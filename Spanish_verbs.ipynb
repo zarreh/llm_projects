{
 "cells": [
  {
   "cell_type": "code",
   "execution_count": 1,
   "metadata": {},
   "outputs": [],
   "source": [
    "from IPython.display import Markdown, display\n",
    "import PyPDF2\n",
    "import requests"
   ]
  },
  {
   "cell_type": "code",
   "execution_count": 2,
   "metadata": {},
   "outputs": [],
   "source": [
    "def read_pdf(path):\n",
    "    # Open the PDF file\n",
    "    with open(path, 'rb') as file:\n",
    "        reader = PyPDF2.PdfReader(file)  # Create a PDF reader object\n",
    "        text = ''\n",
    "        \n",
    "        # Extract text from each page\n",
    "        for page in reader.pages:\n",
    "            text += page.extract_text()\n",
    "    \n",
    "    return text"
   ]
  },
  {
   "cell_type": "code",
   "execution_count": 3,
   "metadata": {},
   "outputs": [],
   "source": [
    "OLLAMA_API = \"http://localhost:11434/api/chat\"\n",
    "HEADERS = {\"Content-Type\": \"application/json\"}\n",
    "MODEL = \"llama3.2\"\n",
    "\n",
    "def chat_with_ollama(prompt):\n",
    "    messages = [\n",
    "    {\"role\": \"user\", \"content\": prompt}\n",
    "    ]\n",
    "    payload = {\n",
    "        \"model\": MODEL,\n",
    "        \"messages\": messages,\n",
    "        \"stream\": False\n",
    "    }\n",
    "    response = requests.post(OLLAMA_API, json=payload, headers=HEADERS)\n",
    "    return response.json()['message']['content']"
   ]
  },
  {
   "cell_type": "code",
   "execution_count": 4,
   "metadata": {},
   "outputs": [
    {
     "name": "stderr",
     "output_type": "stream",
     "text": [
      "<>:4: SyntaxWarning: invalid escape sequence '\\h'\n",
      "<>:4: SyntaxWarning: invalid escape sequence '\\h'\n",
      "C:\\Users\\alire\\AppData\\Local\\Temp\\ipykernel_18208\\3421406630.py:4: SyntaxWarning: invalid escape sequence '\\h'\n",
      "  user_prompt += read_pdf('data\\https___cloudfront.baselang.com_media_lessons_130.-_Verbs_Level_5_-_Part_2.pdf')\n"
     ]
    }
   ],
   "source": [
    "# Create a messages list using the same format that we used for OpenAI\n",
    "user_prompt = \"This is a teaching presentation for spanish verbs. Please find all the new spanish \\\n",
    "    verbs and return them with their Engligh meaning. Here is the content of the slides. Only give me the list of verbs and their translations.\"\n",
    "user_prompt += read_pdf('data\\https___cloudfront.baselang.com_media_lessons_130.-_Verbs_Level_5_-_Part_2.pdf')"
   ]
  },
  {
   "cell_type": "code",
   "execution_count": 5,
   "metadata": {},
   "outputs": [
    {
     "name": "stdout",
     "output_type": "stream",
     "text": [
      "Here is the list of new Spanish verbs with their English translations:\n",
      "\n",
      "1. Empezar - To start\n",
      "2. Cortar - To cut\n",
      "3. Descansar - To rest\n",
      "4. Elegir - To choose\n",
      "5. Llorar - To cry\n",
      "6. Caer - To fall\n",
      "7. Invitar - To invite\n",
      "8. Sonreír - To smile\n",
      "9. Traer - To bring\n",
      "10. Visitar - To visit\n",
      "11. Volar - To fly\n"
     ]
    }
   ],
   "source": [
    "result = chat_with_ollama(user_prompt)\n",
    "print(result)"
   ]
  },
  {
   "cell_type": "code",
   "execution_count": 6,
   "metadata": {},
   "outputs": [
    {
     "name": "stdout",
     "output_type": "stream",
     "text": [
      "1. Present Simple\n",
      "2. Preterite Tense\n",
      "3. Imperfect Tense\n",
      "4. Present Perfect Continuous\n",
      "5. Preterite Perfect\n",
      "6. Future Perfect\n"
     ]
    }
   ],
   "source": [
    "tenses = chat_with_ollama(\"give me a list of tenses in SPanish that is required \\\n",
    "                       to be know for B2 level. only give me the list of names. Nothing else is expected in your answer\")\n",
    "print(tenses)"
   ]
  },
  {
   "cell_type": "code",
   "execution_count": 7,
   "metadata": {},
   "outputs": [],
   "source": [
    "user_prompt = f\"for the list of Spanish verb bellow please give me the conjugation (for Columbian accent) of the verbs for the following tenses, \\\n",
    "        {tenses}. Please give them in a tabular format in a way that in each cell contains \\\n",
    "            six conjugation for Yo, Tu, El/ella/usted, nostoros, Ellos/Ellas/ ustedes\"\n",
    "user_prompt += result\n",
    "\n",
    "# result_conjugation = chat_with_ollama(user_prompt)\n",
    "# print(result_conjugation)"
   ]
  },
  {
   "cell_type": "code",
   "execution_count": 12,
   "metadata": {},
   "outputs": [],
   "source": [
    "# display(Markdown(result_conjugation))"
   ]
  },
  {
   "cell_type": "code",
   "execution_count": 9,
   "metadata": {},
   "outputs": [],
   "source": [
    "user_prompt = f\"\"\"\n",
    "Please conjugate the following Spanish verbs in a **single tabular format** for the tenses: Present, Preterite, Imperfect, Conditional, and Future. Follow these exact rules:\n",
    "\n",
    "1. **Table Structure**:\n",
    "   - Use the following **columns**:\n",
    "     - Verb *(English)*\n",
    "     - Pronoun *(Yo, Tú, Él/Ella/Usted, Nosotros, Ellos/Ellas/Ustedes)*\n",
    "     - Present Tense\n",
    "     - Preterite\n",
    "     - Imperfect\n",
    "     - Conditional\n",
    "     - Future\n",
    "   - The conjugations for all verbs should appear in the same table.\n",
    "\n",
    "2. **Verb Section**:\n",
    "   - For each verb, include its **Spanish name** with the **English translation** (e.g., \"**Empezar** *(to start)*\").\n",
    "   - The verb name should only appear once at the top of its section.\n",
    "\n",
    "3. **Clean Formatting**:\n",
    "   - Each cell under tense columns should contain **only one conjugated form** for the corresponding pronoun.\n",
    "   - Ensure the output avoids duplicate conjugations or unnecessary text.\n",
    "\n",
    "4. **Colombian Spanish**:\n",
    "   - Use Colombian Spanish conjugations (do not include \"vosotros\").\n",
    "\n",
    "5. **Single Table**:\n",
    "   - Combine all conjugations into **one single table**.\n",
    "   - Separate each verb section clearly for better readability.\n",
    "\n",
    "{result}\n",
    "\n",
    "The final output should look like this:\n",
    "\n",
    "| Verb *(English)*     | Pronoun            | Present     | Preterite    | Imperfect    | Conditional    | Future       |\n",
    "|-----------------------|--------------------|-------------|-------------|-------------|----------------|--------------|\n",
    "| **Empezar (to start)**| Yo                 | Empiezo     | Empecé      | Empezaba    | Empezaría      | Empezaré     |\n",
    "|                       | Tú                 | Empiezas    | Empezaste   | Empezabas   | Empezarías     | Empezarás    |\n",
    "|                       | Él/Ella/Usted      | Empieza     | Empezó      | Empezaba    | Empezaría      | Empezará     |\n",
    "|                       | Nosotros           | Empezamos   | Empezamos   | Empezábamos | Empezaríamos   | Empezaremos  |\n",
    "|                       | Ellos/Ellas/Ustedes| Empiezan    | Empezaron   | Empezaban   | Empezarían     | Empezarán    |\n",
    "| **Cortar (to cut)**   | Yo                 | Corto       | Corté       | Cortaba     | Cortaría       | Cortaré      |\n",
    "|                       | ...                | ...         | ...         | ...         | ...            | ...          |\n",
    "\n",
    "Repeat this format for all the verbs provided in the list. Ensure the table is clear, consistent, and visually organized.\n",
    "\"\"\"\n",
    "\n",
    "\n"
   ]
  },
  {
   "cell_type": "code",
   "execution_count": 10,
   "metadata": {},
   "outputs": [],
   "source": [
    "result_conjugation = chat_with_ollama(user_prompt)"
   ]
  },
  {
   "cell_type": "code",
   "execution_count": 11,
   "metadata": {},
   "outputs": [
    {
     "data": {
      "text/markdown": [
       "Here are the conjugations of each verb in a single table format.\n",
       "\n",
       "| Verb *(English)*     | Pronoun            | Present     | Preterite    | Imperfect    | Conditional    | Future       |\n",
       "|-----------------------|--------------------|-------------|-------------|-------------|----------------|--------------|\n",
       "| **Empezar (to start)**| Yo                 | Empecerá     | Empecé        | Empezaba    | Empezaría      | Empezará     |\n",
       "|                       | Tú                 | Empezarás   | Empezaste     | Empezabas   | Empezarías     | Empezarás    |\n",
       "|                       | Él/Ella/Usted      | Empezará    | Empezó        | Empezaba    | Empezaría      | Empezará     |\n",
       "|                       | Nosotros           | Empezaremos| Empezamos     | Empezábamos  | Empezaríamos   | Empezaremos  |\n",
       "|                       | Ellos/Ellas/Ustedes| Empezan     | Empezaron     | Empezaban   | Empezarían     | Empezarán    |\n",
       "| **Cortar (to cut)**   | Yo                 | Corto        | Corté         | Cortaba      | Cortaría       | Cortará      |\n",
       "|                       | Tú                 | Cortas       | Cortaste      | Cortabas     | Cortaras       | Cortarás     |\n",
       "|                       | Él/Ella/Usted      | Corta        | Cortó         | Cortaba      | Cortara        | Cortará      |\n",
       "|                       | Nosotros           | Cortamos     | Cortamos      | Cortábamos   | Cortaríamos    | Cortaremos   |\n",
       "|                       | Ellos/Ellas/Ustedes| Cortan       | Cortaron      | Cortaban     | Cortaran       | Cortarán     |\n",
       "| **Descansar (to rest)**| Yo                 | Descanso     | Descanse      | Descansaba  | Descansaría    | Descansará   |\n",
       "|                       | Tú                 | Descanas     | Descanstes    | Descansabas  | Descansarías   | Descansaras  |\n",
       "|                       | Él/Ella/Usted      | Descansa     | Descaña       | Descansaba   | Descansaría    | Descansará   |\n",
       "|                       | Nosotros           | Descansamos  | Descansamos   | Descansábamos| Descansaríamos | Descansaremos|\n",
       "|                       | Ellos/Ellas/Ustedes| Descasan     | Descanzan     | Descansaban   | Descansaran     | Descansaran |\n",
       "| **Elegir (to choose)**| Yo                 | Eligo        | Elijé         | Elegía       | Elijiría       | Elijirá      |\n",
       "|                       | Tú                 | Eliges       | Elijiste      | Elegías       | Eligerías     | Eligerás     |\n",
       "|                       | Él/Ella/Usted      | Elige        | Eligió        | Elegía        | Elijiría       | Elijirá      |\n",
       "|                       | Nosotros           | Eligimos     | Eligimos      | Elegíamos    | Eligiéramos   | Eligiéremos  |\n",
       "|                       | Ellos/Ellas/Ustedes| Eligen       | Eligieron     | Elegían       | Eligen        | Eligen       |\n",
       "| **Llorar (to cry)**    | Yo                 | Lloro        | Llore         | Lloraba      | Lloraría      | Llorará      |\n",
       "|                       | Tú                 | Llora        | Llores        | Llorabas     | Lloraras       | Lloraras     |\n",
       "|                       | Él/Ella/Usted      | Llora        | Llore         | Lloraba      | Lloraría      | Llorará      |\n",
       "|                       | Nosotros           | Llamamos     | Llamamos      | Llamábamos   | Llamáramos    | Llamaremos  |\n",
       "|                       | Ellos/Ellas/Ustedes| Llanzan      | Llamaron      | Llanzaban     | Llanzarán     | Llanzarán    |\n",
       "| **Caer (to fall)**     | Yo                 | Caigo        | Cayó          | Caido         | Cairía       | Caerá        |\n",
       "|                       | Tú                 | Caes         | Cayaste       | Caidas        | Caerías      | Caeras        |\n",
       "|                       | Él/Ella/Usted      | Cae          | Cayó          | Caido         | Caería       | Caera        |\n",
       "|                       | Nosotros           | Caemos      | Caemos        | Caíamos      | Caeríamos     | Caeremos     |\n",
       "|                       | Ellos/Ellas/Ustedes| Caen         | Cayeron      | Caidan        | Caerán        | Caerán       |\n",
       "| **Invitar (to invite)**| Yo                 | Invito       | Invité        | Invitaba     | Invitara       | Invitará      |\n",
       "|                       | Tú                 | Invitas      | Invitaste     | Invitabas    | Invitaras       | Invitarás    |\n",
       "|                       | Él/Ella/Usted      | Invita        | Invitó         | Invitaba    | Invitara       | Invitará      |\n",
       "|                       | Nosotros           | Invitamos   | Invitamos     | Invitábamos   | Invitáramos    | Invitaremos  |\n",
       "|                       | Ellos/Ellas/Ustedes| Invitan      | Invitaron     | Invitan        | Invitan         | Invitan       |\n",
       "| **Sonreír (to smile)**| Yo                 | Sonrío       | Sonré         | Sonreía       | Sonriría       | Sonrirá      |\n",
       "|                       | Tú                 | Sonríes       | Sonrió         | Sonreías        | Sonrias         | Sonrás          |\n",
       "|                       | Él/Ella/Usted      | Sonríe        | Sonrió         | Sonreía        | Sonrisa        | Sonría          |\n",
       "|                       | Nosotros           | Sonreimos   | Sonreimos     | Sonreíamos    | Sonrisáramos    | Sonríamos       |\n",
       "|                       | Ellos/Ellas/Ustedes| Sonrían       | Sonrieron     | Sonrían        | Sonrían          | Sonrían       |\n",
       "| **Ir (to go)**         | Yo                 | Vado         | Vine           | Voy            | Iría           | Irá           |\n",
       "|                       | Tú                 | Vas          | Viniste        | Vasas          | Irás             | Ira            |\n",
       "|                       | Él/Ella/Usted      | Va            | Vinó            | Va               | Iría           | Irá           |\n",
       "|                       | Nosotros           | Vamos         | Vineos         | Vamos           | Irámos       | Irámos        |\n",
       "|                       | Ellos/Ellas/Ustedes| Van          | Vieron         | Van              | Iren           | Ira            |"
      ],
      "text/plain": [
       "<IPython.core.display.Markdown object>"
      ]
     },
     "metadata": {},
     "output_type": "display_data"
    }
   ],
   "source": [
    "display(Markdown(result_conjugation))"
   ]
  },
  {
   "cell_type": "code",
   "execution_count": null,
   "metadata": {},
   "outputs": [],
   "source": []
  }
 ],
 "metadata": {
  "kernelspec": {
   "display_name": "llms",
   "language": "python",
   "name": "python3"
  },
  "language_info": {
   "codemirror_mode": {
    "name": "ipython",
    "version": 3
   },
   "file_extension": ".py",
   "mimetype": "text/x-python",
   "name": "python",
   "nbconvert_exporter": "python",
   "pygments_lexer": "ipython3",
   "version": "3.12.8"
  }
 },
 "nbformat": 4,
 "nbformat_minor": 2
}
